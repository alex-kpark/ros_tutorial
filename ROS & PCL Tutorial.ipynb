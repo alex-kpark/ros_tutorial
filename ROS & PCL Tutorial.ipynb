{
 "cells": [
  {
   "cell_type": "markdown",
   "metadata": {},
   "source": [
    "# Pointcloud Tutorial"
   ]
  },
  {
   "cell_type": "markdown",
   "metadata": {},
   "source": [
    "# 1. Basic I/O with PCL-Python"
   ]
  },
  {
   "cell_type": "code",
   "execution_count": 3,
   "metadata": {},
   "outputs": [],
   "source": [
    "import pcl #Library for Pointcloud\n",
    "import numpy as np"
   ]
  },
  {
   "cell_type": "code",
   "execution_count": 11,
   "metadata": {},
   "outputs": [
    {
     "name": "stdout",
     "output_type": "stream",
     "text": [
      "<PointCloud of 202627 points>\n",
      "Type:  <class 'pcl._pcl.PointCloud'>\n"
     ]
    }
   ],
   "source": [
    "#1. Read pcl data\n",
    "pc = pcl.load('./dataset/tabletop.pcd')\n",
    "print(pc)\n",
    "print('Type: ', type(pc))"
   ]
  },
  {
   "cell_type": "code",
   "execution_count": 13,
   "metadata": {},
   "outputs": [
    {
     "name": "stdout",
     "output_type": "stream",
     "text": [
      "[[1. 2. 3.]\n",
      " [3. 4. 5.]]\n",
      "<PointCloud of 2 points>\n"
     ]
    }
   ],
   "source": [
    "#2. Create pcl data\n",
    "\n",
    "#1) create numpy array\n",
    "pc_array = np.array([[1,2,3],[3,4,5]], dtype=np.float32)\n",
    "print(pc_array)\n",
    "\n",
    "#2) make pointcloud from array\n",
    "pc = pcl.PointCloud() #Create an object\n",
    "pc.from_array(pc_array)\n",
    "print(pc)"
   ]
  },
  {
   "cell_type": "code",
   "execution_count": 17,
   "metadata": {},
   "outputs": [],
   "source": [
    "#3. Write Pointcloud\n",
    "\n",
    "pcl.save(pc, 'pc2pcd.pcd')"
   ]
  },
  {
   "cell_type": "code",
   "execution_count": 22,
   "metadata": {},
   "outputs": [
    {
     "name": "stdout",
     "output_type": "stream",
     "text": [
      "(2, 3)\n"
     ]
    }
   ],
   "source": [
    "#4. Transform it to numpy array from Pointcloud\n",
    "pc_array = pc.to_array()\n",
    "\n",
    "print(pc_array.shape)\n",
    "\n",
    "# Numpy to Pointcloud\n",
    "pc_new = pcl.PointCloud()\n",
    "pc_new.from_array(pc_array)"
   ]
  },
  {
   "cell_type": "code",
   "execution_count": 27,
   "metadata": {},
   "outputs": [
    {
     "name": "stdout",
     "output_type": "stream",
     "text": [
      "Sizes are:  202627\n"
     ]
    }
   ],
   "source": [
    "cloud = pcl.load('./dataset/tabletop.pcd')\n",
    "print('Sizes are: ', cloud.size)"
   ]
  },
  {
   "cell_type": "markdown",
   "metadata": {},
   "source": [
    "# 2. Data Processing"
   ]
  },
  {
   "cell_type": "code",
   "execution_count": 38,
   "metadata": {},
   "outputs": [],
   "source": [
    "# Visualize the pointcloud file with Open3D\n",
    "import open3d as o3d\n",
    "\n",
    "pcd = o3d.io.read_point_cloud('./dataset/tabletop.pcd')\n",
    "o3d.visualization.draw_geometries([pcd])"
   ]
  },
  {
   "cell_type": "code",
   "execution_count": 47,
   "metadata": {},
   "outputs": [],
   "source": [
    "# 1. Downsampling with Voxelization\n",
    "\n",
    "def do_voxel_grid_downsampling(pcl_data, leaf_size):\n",
    "    vox = pcl_data.make_voxel_grid_filter() #Set the Voxel Grid\n",
    "    vox.set_leaf_size(leaf_size, leaf_size, leaf_size) #Set the Leaf size\n",
    "    result = vox.filter() #Decrease the number of Points\n",
    "    return result"
   ]
  },
  {
   "cell_type": "code",
   "execution_count": 48,
   "metadata": {},
   "outputs": [
    {
     "name": "stdout",
     "output_type": "stream",
     "text": [
      "<PointCloud of 55336 points>\n",
      "<class 'pcl._pcl.PointCloud'>\n"
     ]
    }
   ],
   "source": [
    "voxelized_pcd = do_voxel_grid_downsampling(cloud, 0.01)\n",
    "print(voxelized_pcd)\n",
    "print(type(voxelized_pcd))"
   ]
  },
  {
   "cell_type": "code",
   "execution_count": 50,
   "metadata": {},
   "outputs": [],
   "source": [
    "# 2. ROI Selection with Filters\n",
    "\n",
    "# 1) passthrough filter\n",
    "def do_passthrough(pcl_data, filter_axis, axis_min, axis_max):\n",
    "\n",
    "    #define the filter\n",
    "    passthrough = pcl_data.make_passthrough_filter()\n",
    "    \n",
    "    #set the axis\n",
    "    passthrough.set_filter_field_name(filter_axis)\n",
    "    \n",
    "    #filter limit\n",
    "    passthrough.set_filter_limits(axis_min, axis_max)\n",
    "    \n",
    "    result = passthrough.filter()\n",
    "    \n",
    "    return result"
   ]
  },
  {
   "cell_type": "code",
   "execution_count": 61,
   "metadata": {},
   "outputs": [
    {
     "name": "stdout",
     "output_type": "stream",
     "text": [
      "<PointCloud of 19329 points>\n"
     ]
    }
   ],
   "source": [
    "cloud = pcl.load('./dataset/lobby.pcd')\n",
    "cloud_arr = cloud.to_array()\n",
    "print(cloud)"
   ]
  },
  {
   "cell_type": "code",
   "execution_count": 57,
   "metadata": {},
   "outputs": [],
   "source": [
    "# Visualize the Original Image\n",
    "\n",
    "pts_path = \"./dataset/lobby.pcd\"\n",
    "fragment = o3d.io.read_point_cloud(pts_path)\n",
    "viz = o3d.visualization.draw_geometries([fragment])"
   ]
  },
  {
   "cell_type": "code",
   "execution_count": 75,
   "metadata": {},
   "outputs": [],
   "source": [
    "# Passthrough filter execution at x\n",
    "filter_axis = 'x'\n",
    "axis_min = 1.0\n",
    "axis_max = 20.0\n",
    "cloud_filtered_x = do_passthrough(cloud, filter_axis, axis_min, axis_max)"
   ]
  },
  {
   "cell_type": "code",
   "execution_count": 80,
   "metadata": {},
   "outputs": [],
   "source": [
    "# Passthrough filter execution at y\n",
    "filter_axis = 'y'\n",
    "axis_min = -7.0\n",
    "axis_max = 5.5\n",
    "cloud_filtered_y = do_passthrough(cloud, filter_axis, axis_min, axis_max)"
   ]
  },
  {
   "cell_type": "code",
   "execution_count": 81,
   "metadata": {},
   "outputs": [],
   "source": [
    "pcl.save(cloud_filtered_y, 'pc_filtered_y.pcd')"
   ]
  },
  {
   "cell_type": "code",
   "execution_count": 82,
   "metadata": {},
   "outputs": [],
   "source": [
    "# Check filtered result\n",
    "pts_path = \"./pc_filtered_y.pcd\"\n",
    "fragment = o3d.io.read_point_cloud(pts_path)\n",
    "viz = o3d.visualization.draw_geometries([fragment])"
   ]
  },
  {
   "cell_type": "code",
   "execution_count": null,
   "metadata": {},
   "outputs": [],
   "source": []
  },
  {
   "cell_type": "code",
   "execution_count": 83,
   "metadata": {},
   "outputs": [],
   "source": [
    "#3. Noise Reduction"
   ]
  },
  {
   "cell_type": "code",
   "execution_count": 86,
   "metadata": {},
   "outputs": [],
   "source": [
    "# Statistical Filtering code\n",
    "def do_statistical_outlier_filtering(pcl_data, mean_k, tresh):\n",
    "    \n",
    "    # Create the filter\n",
    "    outlier_filter = pcl_data.make_statistical_outlier_filter()\n",
    "    \n",
    "    # Set mean value for the filter\n",
    "    outlier_filter.set_mean_k(mean_k)\n",
    "    \n",
    "    # Std dev value set\n",
    "    outlier_filter.set_std_dev_mul_thresh(tresh)\n",
    "    \n",
    "    result = outlier_filter.filter()\n",
    "    \n",
    "    return result"
   ]
  },
  {
   "cell_type": "code",
   "execution_count": null,
   "metadata": {},
   "outputs": [],
   "source": [
    "filtered_cloud = do_statistical_outlier_filtering(cloud, 10, 0.001)"
   ]
  },
  {
   "cell_type": "code",
   "execution_count": 84,
   "metadata": {},
   "outputs": [],
   "source": [
    "#4. RANSAC"
   ]
  },
  {
   "cell_type": "code",
   "execution_count": 87,
   "metadata": {},
   "outputs": [],
   "source": [
    "def do_ransac_plane_segmentation(pcl_data, pcl_sac_model_plane, pcl_sac_ransac, max_distance):\n",
    "    '''\n",
    "    >> Args\n",
    "    - pcl_sac_model_plane: use to determine plane models\n",
    "    - pcl_sac_ransac: RANSAC consensus\n",
    "    '''\n",
    "    \n",
    "    seg = pcl_data.make_segmenter() # Declare the segment\n",
    "    seg.set_model_type(pcl_sac_model_plane)\n",
    "    seg.set_method_type(pcl_sac_ransac)\n",
    "    set.set_distance_threshold(max_distance)\n",
    "    \n",
    "    return seg\n",
    "\n",
    "def extract_inlier_outlier(pcl_data, ransac_segmentation):\n",
    "    inliers, coefficients = ransac_segmentation.segment()\n",
    "    \n",
    "    # Recognize inlier v. outlier with negative Boolean\n",
    "    inlier_object = pcl_data.extract(inliers, negative=False)\n",
    "    outlier_object = pcl_data.extract(inliers, negative=True)\n",
    "    \n",
    "    return inlier_object, outlier_object"
   ]
  },
  {
   "cell_type": "code",
   "execution_count": null,
   "metadata": {},
   "outputs": [],
   "source": [
    "ransac_segmentation = do_ransac_plane_segmentation(cloud, pcl.SACMODEL_PLANE, pcl.SACMODEL_RANSAC, 0.01)\n",
    "inlier, outliner = extract_inlier_outlier(cloud, ransac_segmentation)"
   ]
  },
  {
   "cell_type": "code",
   "execution_count": null,
   "metadata": {},
   "outputs": [],
   "source": []
  }
 ],
 "metadata": {
  "kernelspec": {
   "display_name": "Python 3",
   "language": "python",
   "name": "python3"
  },
  "language_info": {
   "codemirror_mode": {
    "name": "ipython",
    "version": 3
   },
   "file_extension": ".py",
   "mimetype": "text/x-python",
   "name": "python",
   "nbconvert_exporter": "python",
   "pygments_lexer": "ipython3",
   "version": "3.6.9"
  }
 },
 "nbformat": 4,
 "nbformat_minor": 4
}
